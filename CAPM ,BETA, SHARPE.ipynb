{
 "cells": [
  {
   "cell_type": "markdown",
   "metadata": {},
   "source": [
    "# CAPM  - Capital Asset Pricing Model"
   ]
  },
  {
   "cell_type": "code",
   "execution_count": 1,
   "metadata": {},
   "outputs": [],
   "source": [
    "import numpy as np\n",
    "import pandas as pd\n",
    "from pandas_datareader import data as wb\n",
    "import matplotlib.pyplot as plt\n",
    "%matplotlib inline"
   ]
  },
  {
   "cell_type": "code",
   "execution_count": 2,
   "metadata": {},
   "outputs": [
    {
     "ename": "NameError",
     "evalue": "name 'pd' is not defined",
     "output_type": "error",
     "traceback": [
      "\u001b[1;31m---------------------------------------------------------------------------\u001b[0m",
      "\u001b[1;31mNameError\u001b[0m                                 Traceback (most recent call last)",
      "\u001b[1;32m<ipython-input-2-ea7b1635319c>\u001b[0m in \u001b[0;36m<module>\u001b[1;34m()\u001b[0m\n\u001b[0;32m      8\u001b[0m \u001b[0mticker5\u001b[0m \u001b[1;33m=\u001b[0m \u001b[1;34m'GGBR4.SA'\u001b[0m\u001b[1;33m\u001b[0m\u001b[0m\n\u001b[0;32m      9\u001b[0m \u001b[1;33m\u001b[0m\u001b[0m\n\u001b[1;32m---> 10\u001b[1;33m \u001b[0mprices\u001b[0m\u001b[1;33m=\u001b[0m \u001b[0mpd\u001b[0m\u001b[1;33m.\u001b[0m\u001b[0mDataFrame\u001b[0m\u001b[1;33m(\u001b[0m\u001b[1;33m)\u001b[0m\u001b[1;33m\u001b[0m\u001b[0m\n\u001b[0m\u001b[0;32m     11\u001b[0m \u001b[0mtickers\u001b[0m \u001b[1;33m=\u001b[0m \u001b[1;33m[\u001b[0m\u001b[0mmarket\u001b[0m\u001b[1;33m,\u001b[0m\u001b[0mticker1\u001b[0m\u001b[1;33m,\u001b[0m\u001b[0mticker2\u001b[0m\u001b[1;33m,\u001b[0m\u001b[0mticker3\u001b[0m\u001b[1;33m,\u001b[0m\u001b[0mticker4\u001b[0m\u001b[1;33m,\u001b[0m\u001b[0mticker5\u001b[0m\u001b[1;33m]\u001b[0m\u001b[1;33m\u001b[0m\u001b[0m\n\u001b[0;32m     12\u001b[0m \u001b[1;32mfor\u001b[0m \u001b[0mt\u001b[0m \u001b[1;32min\u001b[0m \u001b[0mtickers\u001b[0m\u001b[1;33m:\u001b[0m\u001b[1;33m\u001b[0m\u001b[0m\n",
      "\u001b[1;31mNameError\u001b[0m: name 'pd' is not defined"
     ]
    }
   ],
   "source": [
    "market = '^BVSP'\n",
    "rf = 0.08\n",
    "\n",
    "ticker1 = 'EGIE3.SA'\n",
    "ticker2 = 'PTBL3.SA'\n",
    "ticker3 = 'VLID3.SA'\n",
    "ticker4 = 'ITSA4.SA'\n",
    "ticker5 = 'GGBR4.SA'\n",
    "\n",
    "prices= pd.DataFrame()\n",
    "tickers = [market,ticker1,ticker2,ticker3,ticker4,ticker5]\n",
    "for t in tickers:\n",
    "     prices[t]= wb.DataReader(t, data_source='yahoo',period =\"monthly\", start='2010-1-1')['Adj Close']\n",
    "prices.columns = ['IBOVESPA','EGIE3.SA','PTBL3.SA','VLID3.SA','ITSA4.SA','GGBR4.SA']\n",
    "print(prices)"
   ]
  },
  {
   "cell_type": "markdown",
   "metadata": {},
   "source": [
    "#### *** Calculating beta of assets ***"
   ]
  },
  {
   "cell_type": "code",
   "execution_count": 3,
   "metadata": {},
   "outputs": [
    {
     "name": "stdout",
     "output_type": "stream",
     "text": [
      "IBOVESPA    1.000000\n",
      "EGIE3.SA    0.504150\n",
      "PTBL3.SA    0.670733\n",
      "VLID3.SA    0.577675\n",
      "ITSA4.SA    0.978333\n",
      "GGBR4.SA    1.172400\n",
      "Name: IBOVESPA, dtype: float64\n"
     ]
    }
   ],
   "source": [
    "log_ret= np.log(prices / prices.shift(1))\n",
    "cov = log_ret.cov() * 250\n",
    "cov_with_market = cov.iloc[0,]\n",
    "market_var = log_ret['IBOVESPA'].var() * 250\n",
    "beta_assets = cov_with_market / market_var\n",
    "pfolio_beta = beta_assets.mean()\n",
    "print (beta_assets)\n"
   ]
  },
  {
   "cell_type": "code",
   "execution_count": 4,
   "metadata": {},
   "outputs": [
    {
     "name": "stdout",
     "output_type": "stream",
     "text": [
      "Beta pfolio: 0.8172154120735181 \n"
     ]
    }
   ],
   "source": [
    "print(\"Beta pfolio: {} \".format(pfolio_beta))"
   ]
  },
  {
   "cell_type": "markdown",
   "metadata": {},
   "source": [
    "#### *** Calculating expected return on a stock (CAPM)***"
   ]
  },
  {
   "cell_type": "code",
   "execution_count": 5,
   "metadata": {},
   "outputs": [
    {
     "data": {
      "text/plain": [
       "IBOVESPA    0.130000\n",
       "EGIE3.SA    0.105208\n",
       "PTBL3.SA    0.113537\n",
       "VLID3.SA    0.108884\n",
       "ITSA4.SA    0.128917\n",
       "GGBR4.SA    0.138620\n",
       "Name: IBOVESPA, dtype: float64"
      ]
     },
     "execution_count": 5,
     "metadata": {},
     "output_type": "execute_result"
    }
   ],
   "source": [
    "return_ex = rf + beta_assets * 0.05\n",
    "return_ex"
   ]
  },
  {
   "cell_type": "markdown",
   "metadata": {},
   "source": [
    "#### *** Sharpe index ***"
   ]
  },
  {
   "cell_type": "code",
   "execution_count": 6,
   "metadata": {},
   "outputs": [
    {
     "data": {
      "text/plain": [
       "8.882743064371235"
      ]
     },
     "execution_count": 6,
     "metadata": {},
     "output_type": "execute_result"
    }
   ],
   "source": [
    "sharpe = sum((return_ex - rf) / (log_ret.std() * 250 ** 0.05))\n",
    "sharpe"
   ]
  },
  {
   "cell_type": "code",
   "execution_count": null,
   "metadata": {},
   "outputs": [],
   "source": []
  }
 ],
 "metadata": {
  "kernelspec": {
   "display_name": "Python 3",
   "language": "python",
   "name": "python3"
  },
  "language_info": {
   "codemirror_mode": {
    "name": "ipython",
    "version": 3
   },
   "file_extension": ".py",
   "mimetype": "text/x-python",
   "name": "python",
   "nbconvert_exporter": "python",
   "pygments_lexer": "ipython3",
   "version": "3.6.5"
  }
 },
 "nbformat": 4,
 "nbformat_minor": 2
}
